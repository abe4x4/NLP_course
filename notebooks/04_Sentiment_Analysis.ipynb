
{
 "cells": [
  {
   "cell_type": "markdown",
   "metadata": {},
   "source": [
    "# Section 4: Sentiment Analysis"
   ]
  },
  {
   "cell_type": "markdown",
   "metadata": {},
   "source": [
    "This notebook covers the process of building, evaluating, and fine-tuning a sentiment analysis model."
   ]
  },
  {
   "cell_type": "markdown",
   "metadata": {},
   "source": [
    "## 1. Building a Sentiment Analysis Model"
   ]
  },
  {
   "cell_type": "markdown",
   "metadata": {},
   "source": [
    "Sentiment analysis is the task of identifying and categorizing opinions expressed in a piece of text, especially in order to determine whether the writer's attitude towards a particular topic, product, etc. is positive, negative, or neutral.\n\nIn this section, we will build a simple sentiment analysis model using a pipeline that combines a `CountVectorizer` and a `MultinomialNB` classifier."
   ]
  },
  {
   "cell_type": "code",
   "execution_count": null,
   "metadata": {},
   "outputs": [],
   "source": [
    "from sklearn.feature_extraction.text import CountVectorizer\nfrom sklearn.naive_bayes import MultinomialNB\nfrom sklearn.pipeline import make_pipeline\n\n# Sample data\nX_train = ['I love this movie', 'This is a great movie', 'I hate this movie', 'This is a terrible movie']\ny_train = ['positive', 'positive', 'negative', 'negative']\n\n# Create a pipeline\nmodel = make_pipeline(CountVectorizer(), MultinomialNB())\n\n# Train the model\nmodel.fit(X_train, y_train)\n\n# Test the model\nX_test = ['I like this movie', 'This is an awful movie']\npredictions = model.predict(X_test)\n\n# Print the predictions\nprint(predictions)"
   ]
  },
  {
   "cell_type": "markdown",
   "metadata": {},
   "source": [
    "## 2. Evaluating the Model"
   ]
  },
  {
   "cell_type": "markdown",
   "metadata": {},
   "source": [
    "Evaluating a sentiment analysis model is crucial to understanding its performance. Some common evaluation metrics include:\n\n*   **Accuracy:** The proportion of correctly classified instances.\n*   **Precision:** The proportion of positive identifications that were actually correct.\n*   **Recall:** The proportion of actual positives that were identified correctly.\n*   **F1-score:** A weighted average of precision and recall."
   ]
  },
  {
   "cell_type": "code",
   "execution_count": null,
   "metadata": {},
   "outputs": [],
   "source": [
    "from sklearn.metrics import accuracy_score, precision_score, recall_score, f1_score\n\n# True labels\ny_true = ['positive', 'negative', 'positive', 'negative']\n\n# Predicted labels\ny_pred = ['positive', 'positive', 'positive', 'negative']\n\n# Calculate metrics\naccuracy = accuracy_score(y_true, y_pred)\nprecision = precision_score(y_true, y_pred, pos_label='positive')\nrecall = recall_score(y_true, y_pred, pos_label='positive')\nf1 = f1_score(y_true, y_pred, pos_label='positive')\n\n# Print metrics\nprint(f'Accuracy: {accuracy:.2f}')\nprint(f'Precision: {precision:.2f}')\nprint(f'Recall: {recall:.2f}')\nprint(f'F1-score: {f1:.2f}')"
   ]
  },
  {
   "cell_type": "markdown",
   "metadata": {},
   "source": [
    "## 3. Fine-tuning the Model"
   ]
  },
  {
   "cell_type": "markdown",
   "metadata": {},
   "source": [
    "Fine-tuning a model involves adjusting its hyperparameters to improve its performance. Hyperparameters are parameters that are not learned from the data but are set before the training process begins.\n\nGrid search is a common technique for hyperparameter tuning. It involves defining a grid of hyperparameters and then training and evaluating the model for each combination of hyperparameters in the grid. The combination of hyperparameters that gives the best performance is then selected."
   ],
  },
  {
   "cell_type": "code",
   "execution_count": null,
   "metadata": {},
   "outputs": [],
   "source": [
    "from sklearn.model_selection import GridSearchCV\n\n# Define the parameter grid\nparam_grid = {\n    'countvectorizer__ngram_range': [(1, 1), (1, 2)],\n    'multinomialnb__alpha': [0.1, 1.0, 10.0]\n}\n\n# Create a GridSearchCV object\ngrid_search = GridSearchCV(model, param_grid, cv=2)\n\n# Fit the grid search to the data\ngrid_search.fit(X_train, y_train)\n\n# Print the best parameters\nprint(\"Best parameters:\", grid_search.best_params_)"
   ]
  }
 ],
 "metadata": {
  "kernelspec": {
   "display_name": "Python 3",
   "language": "python",
   "name": "python3"
  },
  "language_info": {
   "codemirror_mode": {
    "name": "ipython",
    "version": 3
   },
   "file_extension": ".py",
   "mimetype": "text/x-python",
   "name": "python",
   "nbconvert_exporter": "python",
   "pygments_lexer": "ipython3",
   "version": "3.10.12"
  }
 },
 "nbformat": 4,
 "nbformat_minor": 4
}
