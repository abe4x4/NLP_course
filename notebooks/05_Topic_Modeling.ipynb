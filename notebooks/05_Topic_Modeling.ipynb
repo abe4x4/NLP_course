
{
 "cells": [
  {
   "cell_type": "markdown",
   "metadata": {},
   "source": [
    "# Section 5: Topic Modeling"
   ]
  },
  {
   "cell_type": "markdown",
   "metadata": {},
   "source": [
    "This notebook covers topic modeling techniques, including Latent Dirichlet Allocation (LDA) and using Gensim for topic modeling."
   ]
  },
  {
   "cell_type": "markdown",
   "metadata": {},
   "source": [
    "## 1. Latent Dirichlet Allocation (LDA)"
   ]
  },
  {
   "cell_type": "markdown",
   "metadata": {},
   "source": [
    "Latent Dirichlet Allocation (LDA) is a generative statistical model that allows sets of observations to be explained by unobserved groups that explain why some parts of the data are similar. For example, if observations are words collected into documents, it posits that each document is a mixture of a small number of topics and that each word's creation is attributable to one of the document's topics."
   ]
  },
  {
   "cell_type": "code",
   "execution_count": null,
   "metadata": {},
   "outputs": [],
   "source": [
    "from sklearn.feature_extraction.text import CountVectorizer\nfrom sklearn.decomposition import LatentDirichletAllocation\n\n# Sample documents\ndocuments = [\n    'This is the first document about politics.',\n    'This document is the second document about sports.',\n    'And this is the third one about politics and sports.',\n    'Is this the first document about sports?'\n]\n\n# Create a CountVectorizer object\nvectorizer = CountVectorizer(stop_words='english')\n\nX = vectorizer.fit_transform(documents)\n\n# Create an LDA object\nlda = LatentDirichletAllocation(n_components=2, random_state=42)\n\n# Fit the LDA model\nlda.fit(X)\n\n# Get the topics\nfor index, topic in enumerate(lda.components_):\n    print(f'Topic #{index}')\n    print([vectorizer.get_feature_names_out()[i] for i in topic.argsort()[-3:]])\n    print('\n')"
   ]
  },
  {
   "cell_type": "markdown",
   "metadata": {},
   "source": [
    "## 2. Gensim for Topic Modeling"
   ]
  },
  {
   "cell_type": "markdown",
   "metadata": {},
   "source": [
    "Gensim is a popular open-source library for unsupervised topic modeling and natural language processing. It is designed to be efficient and scalable, and it provides a number of tools for working with text data.\n\nOne of the main advantages of using Gensim for topic modeling is that it provides a more comprehensive set of tools than scikit-learn. For example, Gensim allows you to easily create and manipulate corpora and dictionaries, and it provides a number of different topic modeling algorithms, including LDA, LSI, and HDP."
   ]
  },
  {
   "cell_type": "code",
   "execution_count": null,
   "metadata": {},
   "outputs": [],
   "source": [
    "import gensim\nfrom gensim import corpora\nfrom nltk.tokenize import word_tokenize\nfrom nltk.corpus import stopwords\nimport string\n\n# Sample documents\ndocuments = [\n    'This is the first document about politics.',\n    'This document is the second document about sports.',\n    'And this is the third one about politics and sports.',\n    'Is this the first document about sports?'\n]\n\n# Preprocess the documents\nstop_words = set(stopwords.words('english'))\npunctuation = set(string.punctuation)\n\ndef preprocess(doc):\n    tokens = word_tokenize(doc.lower())\n    return [token for token in tokens if token not in stop_words and token not in punctuation]\n\nprocessed_docs = [preprocess(doc) for doc in documents]\n\n# Create a dictionary and a corpus\ndictionary = corpora.Dictionary(processed_docs)\ncorpus = [dictionary.doc2bow(doc) for doc in processed_docs]\n\n# Create an LDA model\nldamodel = gensim.models.ldamodel.LdaModel(corpus, num_topics=2, id2word=dictionary, passes=15)\n\n# Print the topics\nfor topic in ldamodel.print_topics():\n    print(topic)"
   ]
  }
 ],
 "metadata": {
  "kernelspec": {
   "display_name": "Python 3",
   "language": "python",
   "name": "python3"
  },
  "language_info": {
   "codemirror_mode": {
    "name": "ipython",
    "version": 3
   },
   "file_extension": ".py",
   "mimetype": "text/x-python",
   "name": "python",
   "nbconvert_exporter": "python",
   "pygments_lexer": "ipython3",
   "version": "3.10.12"
  }
 },
 "nbformat": 4,
 "nbformat_minor": 4
}
